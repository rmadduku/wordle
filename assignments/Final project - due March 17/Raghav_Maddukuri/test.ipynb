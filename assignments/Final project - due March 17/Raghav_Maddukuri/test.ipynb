{
 "cells": [
  {
   "cell_type": "code",
   "execution_count": 1,
   "metadata": {
    "collapsed": false
   },
   "outputs": [
   ],
   "source": [
    "#imports needed for the code\n",
    "import itertools\n",
    "from scipy.stats import entropy\n",
    "from collections import defaultdict, Counter\n",
    "GUESSES = 10\n",
    "WORD_FILE_all = \"words.txt\"\n",
    "WORD_FILE = \"correct_words.txt\"\n",
    "\n",
    "#generates all possible combinations of grey, green and yellow letters, represented as 0,1,2. combinations- we learned in lecture at one point\n",
    "all_patterns = list(itertools.product([0,1,2],repeat =5))\n"
   ]
  },
  {
   "cell_type": "code",
   "execution_count": 2,
   "metadata": {
    "collapsed": false
   },
   "outputs": [
   ],
   "source": [
    "#returns the difference between guess and real\n",
    "def get_pattern(guess,real):\n",
    "    wrong = [i for i,v in enumerate(guess) if v !=real[i]]\n",
    "    counts = Counter(real[i] for i in wrong)\n",
    "    pattern = [2,2,2,2,2]\n",
    "    for i in wrong:\n",
    "        v = guess[i]\n",
    "        if counts[v]>0:\n",
    "            pattern[i] = 1\n",
    "            counts[v] -=1\n",
    "        else:\n",
    "            pattern[i] =0\n",
    "    return tuple(pattern)"
   ]
  },
  {
   "cell_type": "code",
   "execution_count": 3,
   "metadata": {
    "collapsed": false
   },
   "outputs": [
   ],
   "source": [
    "#return a list of combinations between words\n",
    "def generate_valid(s,d):\n",
    "    patterns = defaultdict(lambda: defaultdict(set))\n",
    "    for word2 in d:\n",
    "        patterns[s][get_pattern(s,word2)].add(word2)\n",
    "    return dict(patterns)"
   ]
  },
  {
   "cell_type": "code",
   "execution_count": 10,
   "metadata": {
    "collapsed": false
   },
   "outputs": [
   ],
   "source": [
    "orig_all_words = []\n",
    "\n",
    "f = open('words.txt', \"r\")\n",
    "for x in f:\n",
    "    orig_all_words.append(x[0:5])\n",
    "    \n",
    "correct_words = []\n",
    "f = open('correct_words.txt', \"r\")\n",
    "for x in f:\n",
    "    correct_words.append(x[0:5])\n",
    "    \n",
    "all_words = set(orig_all_words)"
   ]
  },
  {
   "cell_type": "code",
   "execution_count": 5,
   "metadata": {
    "collapsed": false
   },
   "outputs": [
   ],
   "source": [
    "def calc_entropies(words, total_words):\n",
    "    entropies = {}\n",
    "    for word in words:\n",
    "        counts = []\n",
    "        for pattern in all_patterns:\n",
    "            matches = generate_valid(word,all_words)[word][pattern]\n",
    "            matches = matches.intersection(total_words)\n",
    "            counts.append(len(matches))\n",
    "        entropies[word]=entropy(counts)\n",
    "    return entropies"
   ]
  },
  {
   "cell_type": "code",
   "execution_count": 11,
   "metadata": {
    "collapsed": false
   },
   "outputs": [
   ],
   "source": [
    "#Try and pick something that has a higher matching, since the kernel takes forever to run it, like mathcing only an e with a guess of salet for bribe took 2 minutes to compile.\n",
    "def wordle(mystery):\n",
    "    MYSTERY_WORD = mystery\n",
    "    STARTER_WORD = 'salet'\n",
    "    all_words = set(orig_all_words)\n",
    "    info = get_pattern(STARTER_WORD,MYSTERY_WORD)\n",
    "    words = generate_valid(STARTER_WORD,all_words)\n",
    "    words = words[STARTER_WORD][info]\n",
    "    all_words = all_words.intersection(words)\n",
    "#     print(\"The Mystery Word is:\", MYSTERY_WORD)\n",
    "#     print('The current guess is : ', STARTER_WORD)\n",
    "#     print(\"The current matching status is: \", info)\n",
    "\n",
    "    choices = generate_valid(STARTER_WORD,correct_words)[STARTER_WORD][info]\n",
    "    entropies = calc_entropies(choices,all_words)\n",
    "    for attempt in range(1,GUESSES):\n",
    "#         print(\"The Mystery Word is:\", MYSTERY_WORD)\n",
    "    #took a shortcut b/c it took to long/ I cheated and looked through only the words in the right answer list that matched with our first guess. The only difference would be that choices would be all_words, but Cocalc can't handle 360*~13000.\n",
    "        if len(all_words) ==1:\n",
    "#             print(\"Wordle bot guesses:\",all_words)\n",
    "#             print(\"Guessed in this many rounds:\", attempt)\n",
    "            break\n",
    "        guess_word = max(entropies, key=entropies.get)\n",
    "        info = get_pattern(guess_word,MYSTERY_WORD)\n",
    "#         print('The current guess is : ', guess_word)\n",
    "#         print(\"The current matching status is: \", info)\n",
    "        if guess_word.__eq__(MYSTERY_WORD):\n",
    "#             print(\"Guessed in this many rounds:\", attempt)\n",
    "            break\n",
    "        remaining = generate_valid(guess_word,all_words)[guess_word][info]\n",
    "        all_words = all_words.intersection(remaining)\n",
    "        entropies = calc_entropies(remaining,all_words)\n",
    "    return (1+attempt)\n",
    "   "
   ]
  },
  {
   "cell_type": "code",
   "execution_count": 12,
   "metadata": {
    "collapsed": false
   },
   "outputs": [
    {
     "ename": "KeyboardInterrupt",
     "evalue": "",
     "output_type": "error",
     "traceback": [
      "\u001b[0;31m---------------------------------------------------------------------------\u001b[0m",
      "\u001b[0;31mKeyboardInterrupt\u001b[0m                         Traceback (most recent call last)",
      "\u001b[0;32m/tmp/ipykernel_7585/1181537901.py\u001b[0m in \u001b[0;36m<module>\u001b[0;34m\u001b[0m\n\u001b[0;32m----> 1\u001b[0;31m \u001b[0mprint\u001b[0m\u001b[0;34m(\u001b[0m\u001b[0mwordle\u001b[0m\u001b[0;34m(\u001b[0m\u001b[0;34m\"pleat\"\u001b[0m\u001b[0;34m)\u001b[0m\u001b[0;34m)\u001b[0m\u001b[0;34m\u001b[0m\u001b[0;34m\u001b[0m\u001b[0m\n\u001b[0m",
      "\u001b[0;32m/tmp/ipykernel_7585/3066986585.py\u001b[0m in \u001b[0;36mwordle\u001b[0;34m(mystery)\u001b[0m\n\u001b[1;32m     13\u001b[0m \u001b[0;34m\u001b[0m\u001b[0m\n\u001b[1;32m     14\u001b[0m     \u001b[0mchoices\u001b[0m \u001b[0;34m=\u001b[0m \u001b[0mgenerate_valid\u001b[0m\u001b[0;34m(\u001b[0m\u001b[0mSTARTER_WORD\u001b[0m\u001b[0;34m,\u001b[0m\u001b[0mcorrect_words\u001b[0m\u001b[0;34m)\u001b[0m\u001b[0;34m[\u001b[0m\u001b[0mSTARTER_WORD\u001b[0m\u001b[0;34m]\u001b[0m\u001b[0;34m[\u001b[0m\u001b[0minfo\u001b[0m\u001b[0;34m]\u001b[0m\u001b[0;34m\u001b[0m\u001b[0;34m\u001b[0m\u001b[0m\n\u001b[0;32m---> 15\u001b[0;31m     \u001b[0mentropies\u001b[0m \u001b[0;34m=\u001b[0m \u001b[0mcalc_entropies\u001b[0m\u001b[0;34m(\u001b[0m\u001b[0mchoices\u001b[0m\u001b[0;34m,\u001b[0m\u001b[0mall_words\u001b[0m\u001b[0;34m)\u001b[0m\u001b[0;34m\u001b[0m\u001b[0;34m\u001b[0m\u001b[0m\n\u001b[0m\u001b[1;32m     16\u001b[0m     \u001b[0;32mfor\u001b[0m \u001b[0mattempt\u001b[0m \u001b[0;32min\u001b[0m \u001b[0mrange\u001b[0m\u001b[0;34m(\u001b[0m\u001b[0;36m1\u001b[0m\u001b[0;34m,\u001b[0m\u001b[0mGUESSES\u001b[0m\u001b[0;34m)\u001b[0m\u001b[0;34m:\u001b[0m\u001b[0;34m\u001b[0m\u001b[0;34m\u001b[0m\u001b[0m\n\u001b[1;32m     17\u001b[0m \u001b[0;31m#         print(\"The Mystery Word is:\", MYSTERY_WORD)\u001b[0m\u001b[0;34m\u001b[0m\u001b[0;34m\u001b[0m\u001b[0;34m\u001b[0m\u001b[0m\n",
      "\u001b[0;32m/tmp/ipykernel_7585/2341489111.py\u001b[0m in \u001b[0;36mcalc_entropies\u001b[0;34m(words, total_words)\u001b[0m\n\u001b[1;32m      4\u001b[0m         \u001b[0mcounts\u001b[0m \u001b[0;34m=\u001b[0m \u001b[0;34m[\u001b[0m\u001b[0;34m]\u001b[0m\u001b[0;34m\u001b[0m\u001b[0;34m\u001b[0m\u001b[0m\n\u001b[1;32m      5\u001b[0m         \u001b[0;32mfor\u001b[0m \u001b[0mpattern\u001b[0m \u001b[0;32min\u001b[0m \u001b[0mall_patterns\u001b[0m\u001b[0;34m:\u001b[0m\u001b[0;34m\u001b[0m\u001b[0;34m\u001b[0m\u001b[0m\n\u001b[0;32m----> 6\u001b[0;31m             \u001b[0mmatches\u001b[0m \u001b[0;34m=\u001b[0m \u001b[0mgenerate_valid\u001b[0m\u001b[0;34m(\u001b[0m\u001b[0mword\u001b[0m\u001b[0;34m,\u001b[0m\u001b[0mall_words\u001b[0m\u001b[0;34m)\u001b[0m\u001b[0;34m[\u001b[0m\u001b[0mword\u001b[0m\u001b[0;34m]\u001b[0m\u001b[0;34m[\u001b[0m\u001b[0mpattern\u001b[0m\u001b[0;34m]\u001b[0m\u001b[0;34m\u001b[0m\u001b[0;34m\u001b[0m\u001b[0m\n\u001b[0m\u001b[1;32m      7\u001b[0m             \u001b[0mmatches\u001b[0m \u001b[0;34m=\u001b[0m \u001b[0mmatches\u001b[0m\u001b[0;34m.\u001b[0m\u001b[0mintersection\u001b[0m\u001b[0;34m(\u001b[0m\u001b[0mtotal_words\u001b[0m\u001b[0;34m)\u001b[0m\u001b[0;34m\u001b[0m\u001b[0;34m\u001b[0m\u001b[0m\n\u001b[1;32m      8\u001b[0m             \u001b[0mcounts\u001b[0m\u001b[0;34m.\u001b[0m\u001b[0mappend\u001b[0m\u001b[0;34m(\u001b[0m\u001b[0mlen\u001b[0m\u001b[0;34m(\u001b[0m\u001b[0mmatches\u001b[0m\u001b[0;34m)\u001b[0m\u001b[0;34m)\u001b[0m\u001b[0;34m\u001b[0m\u001b[0;34m\u001b[0m\u001b[0m\n",
      "\u001b[0;32m/tmp/ipykernel_7585/1981613190.py\u001b[0m in \u001b[0;36mgenerate_valid\u001b[0;34m(s, d)\u001b[0m\n\u001b[1;32m      3\u001b[0m     \u001b[0mpatterns\u001b[0m \u001b[0;34m=\u001b[0m \u001b[0mdefaultdict\u001b[0m\u001b[0;34m(\u001b[0m\u001b[0;32mlambda\u001b[0m\u001b[0;34m:\u001b[0m \u001b[0mdefaultdict\u001b[0m\u001b[0;34m(\u001b[0m\u001b[0mset\u001b[0m\u001b[0;34m)\u001b[0m\u001b[0;34m)\u001b[0m\u001b[0;34m\u001b[0m\u001b[0;34m\u001b[0m\u001b[0m\n\u001b[1;32m      4\u001b[0m     \u001b[0;32mfor\u001b[0m \u001b[0mword2\u001b[0m \u001b[0;32min\u001b[0m \u001b[0md\u001b[0m\u001b[0;34m:\u001b[0m\u001b[0;34m\u001b[0m\u001b[0;34m\u001b[0m\u001b[0m\n\u001b[0;32m----> 5\u001b[0;31m         \u001b[0mpatterns\u001b[0m\u001b[0;34m[\u001b[0m\u001b[0ms\u001b[0m\u001b[0;34m]\u001b[0m\u001b[0;34m[\u001b[0m\u001b[0mget_pattern\u001b[0m\u001b[0;34m(\u001b[0m\u001b[0ms\u001b[0m\u001b[0;34m,\u001b[0m\u001b[0mword2\u001b[0m\u001b[0;34m)\u001b[0m\u001b[0;34m]\u001b[0m\u001b[0;34m.\u001b[0m\u001b[0madd\u001b[0m\u001b[0;34m(\u001b[0m\u001b[0mword2\u001b[0m\u001b[0;34m)\u001b[0m\u001b[0;34m\u001b[0m\u001b[0;34m\u001b[0m\u001b[0m\n\u001b[0m\u001b[1;32m      6\u001b[0m     \u001b[0;32mreturn\u001b[0m \u001b[0mdict\u001b[0m\u001b[0;34m(\u001b[0m\u001b[0mpatterns\u001b[0m\u001b[0;34m)\u001b[0m\u001b[0;34m\u001b[0m\u001b[0;34m\u001b[0m\u001b[0m\n",
      "\u001b[0;32m/tmp/ipykernel_7585/527202806.py\u001b[0m in \u001b[0;36mget_pattern\u001b[0;34m(guess, real)\u001b[0m\n\u001b[1;32m      3\u001b[0m     \u001b[0mwrong\u001b[0m \u001b[0;34m=\u001b[0m \u001b[0;34m[\u001b[0m\u001b[0mi\u001b[0m \u001b[0;32mfor\u001b[0m \u001b[0mi\u001b[0m\u001b[0;34m,\u001b[0m\u001b[0mv\u001b[0m \u001b[0;32min\u001b[0m \u001b[0menumerate\u001b[0m\u001b[0;34m(\u001b[0m\u001b[0mguess\u001b[0m\u001b[0;34m)\u001b[0m \u001b[0;32mif\u001b[0m \u001b[0mv\u001b[0m \u001b[0;34m!=\u001b[0m\u001b[0mreal\u001b[0m\u001b[0;34m[\u001b[0m\u001b[0mi\u001b[0m\u001b[0;34m]\u001b[0m\u001b[0;34m]\u001b[0m\u001b[0;34m\u001b[0m\u001b[0;34m\u001b[0m\u001b[0m\n\u001b[1;32m      4\u001b[0m     \u001b[0mcounts\u001b[0m \u001b[0;34m=\u001b[0m \u001b[0mCounter\u001b[0m\u001b[0;34m(\u001b[0m\u001b[0mreal\u001b[0m\u001b[0;34m[\u001b[0m\u001b[0mi\u001b[0m\u001b[0;34m]\u001b[0m \u001b[0;32mfor\u001b[0m \u001b[0mi\u001b[0m \u001b[0;32min\u001b[0m \u001b[0mwrong\u001b[0m\u001b[0;34m)\u001b[0m\u001b[0;34m\u001b[0m\u001b[0;34m\u001b[0m\u001b[0m\n\u001b[0;32m----> 5\u001b[0;31m     \u001b[0mpattern\u001b[0m \u001b[0;34m=\u001b[0m \u001b[0;34m[\u001b[0m\u001b[0;36m2\u001b[0m\u001b[0;34m,\u001b[0m\u001b[0;36m2\u001b[0m\u001b[0;34m,\u001b[0m\u001b[0;36m2\u001b[0m\u001b[0;34m,\u001b[0m\u001b[0;36m2\u001b[0m\u001b[0;34m,\u001b[0m\u001b[0;36m2\u001b[0m\u001b[0;34m]\u001b[0m\u001b[0;34m\u001b[0m\u001b[0;34m\u001b[0m\u001b[0m\n\u001b[0m\u001b[1;32m      6\u001b[0m     \u001b[0;32mfor\u001b[0m \u001b[0mi\u001b[0m \u001b[0;32min\u001b[0m \u001b[0mwrong\u001b[0m\u001b[0;34m:\u001b[0m\u001b[0;34m\u001b[0m\u001b[0;34m\u001b[0m\u001b[0m\n\u001b[1;32m      7\u001b[0m         \u001b[0mv\u001b[0m \u001b[0;34m=\u001b[0m \u001b[0mguess\u001b[0m\u001b[0;34m[\u001b[0m\u001b[0mi\u001b[0m\u001b[0;34m]\u001b[0m\u001b[0;34m\u001b[0m\u001b[0;34m\u001b[0m\u001b[0m\n",
      "\u001b[0;31mKeyboardInterrupt\u001b[0m: "
     ]
    }
   ],
   "source": [
    "print(wordle(\"pleat\"))"
   ]
  },
  {
   "cell_type": "code",
   "execution_count": 0,
   "metadata": {
    "collapsed": false
   },
   "outputs": [
   ],
   "source": [
   ]
  }
 ],
 "metadata": {
  "kernelspec": {
   "display_name": "Python 3 (system-wide)",
   "language": "python",
   "metadata": {
    "cocalc": {
     "description": "Python 3 programming language",
     "priority": 100,
     "url": "https://www.python.org/"
    }
   },
   "name": "python3",
   "resource_dir": "/ext/jupyter/kernels/python3"
  },
  "language_info": {
   "codemirror_mode": {
    "name": "ipython",
    "version": 3
   },
   "file_extension": ".py",
   "mimetype": "text/x-python",
   "name": "python",
   "nbconvert_exporter": "python",
   "pygments_lexer": "ipython3",
   "version": "3.8.10"
  }
 },
 "nbformat": 4,
 "nbformat_minor": 4
}