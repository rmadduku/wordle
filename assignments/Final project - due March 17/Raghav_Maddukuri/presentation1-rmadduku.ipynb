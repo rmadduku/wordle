{
 "cells": [
  {
   "cell_type": "markdown",
   "metadata": {
    "collapsed": false
   },
   "source": [
    "## Math 157: Intro to Mathematical Software\n",
    "## UC San Diego, Winter 2022"
   ]
  },
  {
   "cell_type": "markdown",
   "metadata": {
    "collapsed": false
   },
   "source": [
    "### Final project: Wordle and Information Theory by Raghav Maddukuri"
   ]
  },
  {
   "cell_type": "markdown",
   "metadata": {
    "collapsed": false
   },
   "source": [
    "## Goal of this lecture"
   ]
  },
  {
   "cell_type": "markdown",
   "metadata": {
    "collapsed": false
   },
   "source": [
    "In this lecture we explore how information theory can help us solve and understand Wordle, and learn to apply those concepts to other games as well."
   ]
  },
  {
   "cell_type": "markdown",
   "metadata": {
    "collapsed": false
   },
   "source": [
    "# What is Wordle?"
   ]
  },
  {
   "cell_type": "markdown",
   "metadata": {
    "collapsed": false
   },
   "source": [
    "Wordle is an online game you can find here:\n",
    "https://www.nytimes.com/games/wordle/index.html.\n",
    "It is a daily challenge where you have to use six guesses to figure out a five letter mystery word."
   ]
  },
  {
   "cell_type": "markdown",
   "metadata": {
    "collapsed": false
   },
   "source": [
    "<img src=\"wordle-graphic-example.jpg\" alt=\"drawing\" width=\"600\"/>"
   ]
  },
  {
   "cell_type": "markdown",
   "metadata": {
    "collapsed": false
   },
   "source": [
    "As you can see in the picture above, there is a bit more than randomly guessing words. Each letter in every word you guess will be one three colors for its position in the mystery word. Grey means its not there. Yellow means the letter is in a different position. Green means you got the letter and the position. "
   ]
  },
  {
   "cell_type": "markdown",
   "metadata": {
    "collapsed": false
   },
   "source": [
    "There is a caveat for double letters, in that if there are two of a letter in the answer and in your guess they will both light up. If there is only one in the mystery word, but two in your guess, then one letter will be yellow/green and the other grey.\n",
    "<img src=\"double.webp\" alt=\"drawing\" width=\"600\"/>"
   ]
  },
  {
   "cell_type": "markdown",
   "metadata": {
    "collapsed": false
   },
   "source": [
    "# So How Do we Ruin it?"
   ]
  },
  {
   "cell_type": "markdown",
   "metadata": {
    "collapsed": false
   },
   "source": [
    "Wordle is a fun 10 minute way to distract yourself from studying, but as programmers and mathematicians, surely we have to find a way to optimize and solve the puzzle. If we want to solve it lets consider a small game. Lets pick a number from 1 - 100. I can guaruntee that I will always be able to get it in 7 or less guesses. This Julia program below shows what I mean, it will show its guesses and you can see how by guessing higher and lower it will find its number."
   ]
  },
  {
   "cell_type": "code",
   "execution_count": 1,
   "metadata": {
    "collapsed": false
   },
   "outputs": [
    {
     "data": {
      "text/plain": [
       "hlower (generic function with 1 method)"
      ]
     },
     "execution_count": 1,
     "metadata": {
     },
     "output_type": "execute_result"
    }
   ],
   "source": [
    "function hlower(number)\n",
    "    guess = 50\n",
    "    iteration = 1\n",
    "        while(guess != number)\n",
    "            if(guess> number)\n",
    "                guess -= round(50/(2^iteration))\n",
    "            elseif(guess< number)\n",
    "                guess += round(50/(2^iteration))\n",
    "            end\n",
    "            iteration+=1\n",
    "            println(guess)\n",
    "        end\n",
    "end"
   ]
  },
  {
   "cell_type": "code",
   "execution_count": 12,
   "metadata": {
    "collapsed": false
   },
   "outputs": [
    {
     "name": "stdout",
     "output_type": "stream",
     "text": [
      "25.0\n",
      "13.0\n",
      "19.0\n",
      "16.0\n",
      "18.0\n"
     ]
    }
   ],
   "source": [
    "# hlower(1)\n",
    "# println()\n",
    "# hlower(3)\n",
    "# println()\n",
    "# hlower(7)\n",
    "# println()\n",
    "# hlower(42)\n",
    "# println()\n",
    "# hlower(55)\n",
    "# println()\n",
    "# hlower(69)\n",
    "\n",
    "hlower(18)"
   ]
  },
  {
   "cell_type": "markdown",
   "metadata": {
    "collapsed": false
   },
   "source": [
    "So how does this function isolate a single number despite there being 100? Well I create buckets for the possible number to be in. Guessing higher or lower gives me just as information as the other, and as a result I can constantly half my possible pool of numbers. In Information theory the unit of measurement for halving our pool of guesses is called a bit. A singular bit halves our pool, two makes it a quarter and so on. Tying back to the number game, I can guess the mystery number with 7 bits of information. For this specific case, the number of partitions is 7, but what about a number 1-50, 1-200. With some math we can figure out the probability of guessing the right number. This gets us a probability formula using information, which is simply: $$p=(\\frac{1}{2})^I$$ With some clever rewriting we can get the same formula, but using the probability of the event. This is: $$I = -\\log_2(p)$$ \n"
   ]
  },
  {
   "cell_type": "markdown",
   "metadata": {
    "collapsed": false
   },
   "source": [
    "## Probability vs. Information"
   ]
  },
  {
   "cell_type": "markdown",
   "metadata": {
    "collapsed": false
   },
   "source": [
    "The formulas above show that Information and Probability are obviously linked, but lets try some real life examples to see the relation."
   ]
  },
  {
   "cell_type": "markdown",
   "metadata": {
    "collapsed": false
   },
   "source": [
    "In this first example consider an even coin, and we need to guess which face landed."
   ]
  },
  {
   "cell_type": "code",
   "execution_count": 13,
   "metadata": {
    "collapsed": false
   },
   "outputs": [
    {
     "name": "stdout",
     "output_type": "stream",
     "text": [
      "p(x)=0.5, Information=1.0"
     ]
    }
   ],
   "source": [
    "#probability of an even coin is\n",
    "p=0.5\n",
    "#Using the information formula we get\n",
    "I= -log2(p)\n",
    "print(\"p(x)=\"*string(p))\n",
    "print(\", Information=\"*string(I))"
   ]
  },
  {
   "cell_type": "markdown",
   "metadata": {
    "collapsed": false
   },
   "source": [
    "In the example of a fair coin we can expect to know the result in one guess, hence why the bit value is 1, but what about about a dice. Then we see"
   ]
  },
  {
   "cell_type": "code",
   "execution_count": 14,
   "metadata": {
    "collapsed": false
   },
   "outputs": [
    {
     "name": "stdout",
     "output_type": "stream",
     "text": [
      "p(x)=0.16666666666666666, Information=2.584962500721156"
     ]
    }
   ],
   "source": [
    "#probability of an fair dice is\n",
    "p=1/6\n",
    "#Using the information formula we get\n",
    "I= -log2(p)\n",
    "print(\"p(x)=\"*string(p))\n",
    "print(\", Information=\"*string(I))"
   ]
  },
  {
   "cell_type": "markdown",
   "metadata": {
    "collapsed": false
   },
   "source": [
    "Here we see that we need on average 2 and a half guesses. Essentially as our choices become more numerous, our guesses become worse. In other words probability and Information are inversely related, as shown by this graph."
   ]
  },
  {
   "cell_type": "code",
   "execution_count": 5,
   "metadata": {
    "collapsed": false
   },
   "outputs": [
    {
     "data": {
      "image/svg+xml": "<?xml version=\"1.0\" encoding=\"utf-8\"?>\n<svg xmlns=\"http://www.w3.org/2000/svg\" xmlns:xlink=\"http://www.w3.org/1999/xlink\" width=\"600\" height=\"400\" viewBox=\"0 0 2400 1600\">\n<defs>\n  <clipPath id=\"clip350\">\n    <rect x=\"0\" y=\"0\" width=\"2400\" height=\"1600\"/>\n  </clipPath>\n</defs>\n<path clip-path=\"url(#clip350)\" d=\"\nM0 1600 L2400 1600 L2400 0 L0 0  Z\n  \" fill=\"#ffffff\" fill-rule=\"evenodd\" fill-opacity=\"1\"/>\n<defs>\n  <clipPath id=\"clip351\">\n    <rect x=\"480\" y=\"0\" width=\"1681\" height=\"1600\"/>\n  </clipPath>\n</defs>\n<path clip-path=\"url(#clip350)\" d=\"\nM174.149 1423.18 L2352.76 1423.18 L2352.76 47.2441 L174.149 47.2441  Z\n  \" fill=\"#ffffff\" fill-rule=\"evenodd\" fill-opacity=\"1\"/>\n<defs>\n  <clipPath id=\"clip352\">\n    <rect x=\"174\" y=\"47\" width=\"2180\" height=\"1377\"/>\n  </clipPath>\n</defs>\n<polyline clip-path=\"url(#clip352)\" style=\"stroke:#000000; stroke-linecap:butt; stroke-linejoin:round; stroke-width:2; stroke-opacity:0.1; fill:none\" points=\"\n  464.173,1423.18 464.173,47.2441 \n  \"/>\n<polyline clip-path=\"url(#clip352)\" style=\"stroke:#000000; stroke-linecap:butt; stroke-linejoin:round; stroke-width:2; stroke-opacity:0.1; fill:none\" points=\"\n  920.904,1423.18 920.904,47.2441 \n  \"/>\n<polyline clip-path=\"url(#clip352)\" style=\"stroke:#000000; stroke-linecap:butt; stroke-linejoin:round; stroke-width:2; stroke-opacity:0.1; fill:none\" points=\"\n  1377.64,1423.18 1377.64,47.2441 \n  \"/>\n<polyline clip-path=\"url(#clip352)\" style=\"stroke:#000000; stroke-linecap:butt; stroke-linejoin:round; stroke-width:2; stroke-opacity:0.1; fill:none\" points=\"\n  1834.37,1423.18 1834.37,47.2441 \n  \"/>\n<polyline clip-path=\"url(#clip352)\" style=\"stroke:#000000; stroke-linecap:butt; stroke-linejoin:round; stroke-width:2; stroke-opacity:0.1; fill:none\" points=\"\n  2291.1,1423.18 2291.1,47.2441 \n  \"/>\n<polyline clip-path=\"url(#clip350)\" style=\"stroke:#000000; stroke-linecap:butt; stroke-linejoin:round; stroke-width:4; stroke-opacity:1; fill:none\" points=\"\n  174.149,1423.18 2352.76,1423.18 \n  \"/>\n<polyline clip-path=\"url(#clip350)\" style=\"stroke:#000000; stroke-linecap:butt; stroke-linejoin:round; stroke-width:4; stroke-opacity:1; fill:none\" points=\"\n  464.173,1423.18 464.173,1404.28 \n  \"/>\n<polyline clip-path=\"url(#clip350)\" style=\"stroke:#000000; stroke-linecap:butt; stroke-linejoin:round; stroke-width:4; stroke-opacity:1; fill:none\" points=\"\n  920.904,1423.18 920.904,1404.28 \n  \"/>\n<polyline clip-path=\"url(#clip350)\" style=\"stroke:#000000; stroke-linecap:butt; stroke-linejoin:round; stroke-width:4; stroke-opacity:1; fill:none\" points=\"\n  1377.64,1423.18 1377.64,1404.28 \n  \"/>\n<polyline clip-path=\"url(#clip350)\" style=\"stroke:#000000; stroke-linecap:butt; stroke-linejoin:round; stroke-width:4; stroke-opacity:1; fill:none\" points=\"\n  1834.37,1423.18 1834.37,1404.28 \n  \"/>\n<polyline clip-path=\"url(#clip350)\" style=\"stroke:#000000; stroke-linecap:butt; stroke-linejoin:round; stroke-width:4; stroke-opacity:1; fill:none\" points=\"\n  2291.1,1423.18 2291.1,1404.28 \n  \"/>\n<path clip-path=\"url(#clip350)\" d=\"M442.356 1454.1 Q438.745 1454.1 436.916 1457.66 Q435.111 1461.2 435.111 1468.33 Q435.111 1475.44 436.916 1479.01 Q438.745 1482.55 442.356 1482.55 Q445.99 1482.55 447.796 1479.01 Q449.625 1475.44 449.625 1468.33 Q449.625 1461.2 447.796 1457.66 Q445.99 1454.1 442.356 1454.1 M442.356 1450.39 Q448.166 1450.39 451.222 1455 Q454.3 1459.58 454.3 1468.33 Q454.3 1477.06 451.222 1481.67 Q448.166 1486.25 442.356 1486.25 Q436.546 1486.25 433.467 1481.67 Q430.412 1477.06 430.412 1468.33 Q430.412 1459.58 433.467 1455 Q436.546 1450.39 442.356 1450.39 Z\" fill=\"#000000\" fill-rule=\"evenodd\" fill-opacity=\"1\" /><path clip-path=\"url(#clip350)\" d=\"M462.518 1479.7 L467.402 1479.7 L467.402 1485.58 L462.518 1485.58 L462.518 1479.7 Z\" fill=\"#000000\" fill-rule=\"evenodd\" fill-opacity=\"1\" /><path clip-path=\"url(#clip350)\" d=\"M481.615 1481.64 L497.935 1481.64 L497.935 1485.58 L475.99 1485.58 L475.99 1481.64 Q478.652 1478.89 483.236 1474.26 Q487.842 1469.61 489.023 1468.27 Q491.268 1465.74 492.148 1464.01 Q493.05 1462.25 493.05 1460.56 Q493.05 1457.8 491.106 1456.07 Q489.185 1454.33 486.083 1454.33 Q483.884 1454.33 481.43 1455.09 Q478.999 1455.86 476.222 1457.41 L476.222 1452.69 Q479.046 1451.55 481.499 1450.97 Q483.953 1450.39 485.99 1450.39 Q491.36 1450.39 494.555 1453.08 Q497.749 1455.77 497.749 1460.26 Q497.749 1462.39 496.939 1464.31 Q496.152 1466.2 494.046 1468.8 Q493.467 1469.47 490.365 1472.69 Q487.263 1475.88 481.615 1481.64 Z\" fill=\"#000000\" fill-rule=\"evenodd\" fill-opacity=\"1\" /><path clip-path=\"url(#clip350)\" d=\"M898.045 1454.1 Q894.434 1454.1 892.606 1457.66 Q890.8 1461.2 890.8 1468.33 Q890.8 1475.44 892.606 1479.01 Q894.434 1482.55 898.045 1482.55 Q901.68 1482.55 903.485 1479.01 Q905.314 1475.44 905.314 1468.33 Q905.314 1461.2 903.485 1457.66 Q901.68 1454.1 898.045 1454.1 M898.045 1450.39 Q903.856 1450.39 906.911 1455 Q909.99 1459.58 909.99 1468.33 Q909.99 1477.06 906.911 1481.67 Q903.856 1486.25 898.045 1486.25 Q892.235 1486.25 889.157 1481.67 Q886.101 1477.06 886.101 1468.33 Q886.101 1459.58 889.157 1455 Q892.235 1450.39 898.045 1450.39 Z\" fill=\"#000000\" fill-rule=\"evenodd\" fill-opacity=\"1\" /><path clip-path=\"url(#clip350)\" d=\"M918.207 1479.7 L923.092 1479.7 L923.092 1485.58 L918.207 1485.58 L918.207 1479.7 Z\" fill=\"#000000\" fill-rule=\"evenodd\" fill-opacity=\"1\" /><path clip-path=\"url(#clip350)\" d=\"M946.124 1455.09 L934.318 1473.54 L946.124 1473.54 L946.124 1455.09 M944.897 1451.02 L950.777 1451.02 L950.777 1473.54 L955.707 1473.54 L955.707 1477.43 L950.777 1477.43 L950.777 1485.58 L946.124 1485.58 L946.124 1477.43 L930.522 1477.43 L930.522 1472.92 L944.897 1451.02 Z\" fill=\"#000000\" fill-rule=\"evenodd\" fill-opacity=\"1\" /><path clip-path=\"url(#clip350)\" d=\"M1354.94 1454.1 Q1351.33 1454.1 1349.5 1457.66 Q1347.69 1461.2 1347.69 1468.33 Q1347.69 1475.44 1349.5 1479.01 Q1351.33 1482.55 1354.94 1482.55 Q1358.57 1482.55 1360.38 1479.01 Q1362.21 1475.44 1362.21 1468.33 Q1362.21 1461.2 1360.38 1457.66 Q1358.57 1454.1 1354.94 1454.1 M1354.94 1450.39 Q1360.75 1450.39 1363.8 1455 Q1366.88 1459.58 1366.88 1468.33 Q1366.88 1477.06 1363.8 1481.67 Q1360.75 1486.25 1354.94 1486.25 Q1349.13 1486.25 1346.05 1481.67 Q1342.99 1477.06 1342.99 1468.33 Q1342.99 1459.58 1346.05 1455 Q1349.13 1450.39 1354.94 1450.39 Z\" fill=\"#000000\" fill-rule=\"evenodd\" fill-opacity=\"1\" /><path clip-path=\"url(#clip350)\" d=\"M1375.1 1479.7 L1379.98 1479.7 L1379.98 1485.58 L1375.1 1485.58 L1375.1 1479.7 Z\" fill=\"#000000\" fill-rule=\"evenodd\" fill-opacity=\"1\" /><path clip-path=\"url(#clip350)\" d=\"M1400.75 1466.44 Q1397.6 1466.44 1395.75 1468.59 Q1393.92 1470.74 1393.92 1474.49 Q1393.92 1478.22 1395.75 1480.39 Q1397.6 1482.55 1400.75 1482.55 Q1403.9 1482.55 1405.73 1480.39 Q1407.58 1478.22 1407.58 1474.49 Q1407.58 1470.74 1405.73 1468.59 Q1403.9 1466.44 1400.75 1466.44 M1410.03 1451.78 L1410.03 1456.04 Q1408.27 1455.21 1406.47 1454.77 Q1404.68 1454.33 1402.92 1454.33 Q1398.29 1454.33 1395.84 1457.45 Q1393.41 1460.58 1393.06 1466.9 Q1394.43 1464.89 1396.49 1463.82 Q1398.55 1462.73 1401.03 1462.73 Q1406.23 1462.73 1409.24 1465.9 Q1412.28 1469.05 1412.28 1474.49 Q1412.28 1479.82 1409.13 1483.03 Q1405.98 1486.25 1400.75 1486.25 Q1394.75 1486.25 1391.58 1481.67 Q1388.41 1477.06 1388.41 1468.33 Q1388.41 1460.14 1392.3 1455.28 Q1396.19 1450.39 1402.74 1450.39 Q1404.5 1450.39 1406.28 1450.74 Q1408.09 1451.09 1410.03 1451.78 Z\" fill=\"#000000\" fill-rule=\"evenodd\" fill-opacity=\"1\" /><path clip-path=\"url(#clip350)\" d=\"M1811.8 1454.1 Q1808.19 1454.1 1806.36 1457.66 Q1804.55 1461.2 1804.55 1468.33 Q1804.55 1475.44 1806.36 1479.01 Q1808.19 1482.55 1811.8 1482.55 Q1815.43 1482.55 1817.24 1479.01 Q1819.07 1475.44 1819.07 1468.33 Q1819.07 1461.2 1817.24 1457.66 Q1815.43 1454.1 1811.8 1454.1 M1811.8 1450.39 Q1817.61 1450.39 1820.66 1455 Q1823.74 1459.58 1823.74 1468.33 Q1823.74 1477.06 1820.66 1481.67 Q1817.61 1486.25 1811.8 1486.25 Q1805.99 1486.25 1802.91 1481.67 Q1799.85 1477.06 1799.85 1468.33 Q1799.85 1459.58 1802.91 1455 Q1805.99 1450.39 1811.8 1450.39 Z\" fill=\"#000000\" fill-rule=\"evenodd\" fill-opacity=\"1\" /><path clip-path=\"url(#clip350)\" d=\"M1831.96 1479.7 L1836.84 1479.7 L1836.84 1485.58 L1831.96 1485.58 L1831.96 1479.7 Z\" fill=\"#000000\" fill-rule=\"evenodd\" fill-opacity=\"1\" /><path clip-path=\"url(#clip350)\" d=\"M1857.03 1469.17 Q1853.69 1469.17 1851.77 1470.95 Q1849.88 1472.73 1849.88 1475.86 Q1849.88 1478.98 1851.77 1480.77 Q1853.69 1482.55 1857.03 1482.55 Q1860.36 1482.55 1862.28 1480.77 Q1864.2 1478.96 1864.2 1475.86 Q1864.2 1472.73 1862.28 1470.95 Q1860.38 1469.17 1857.03 1469.17 M1852.35 1467.18 Q1849.34 1466.44 1847.65 1464.38 Q1845.99 1462.32 1845.99 1459.35 Q1845.99 1455.21 1848.93 1452.8 Q1851.89 1450.39 1857.03 1450.39 Q1862.19 1450.39 1865.13 1452.8 Q1868.07 1455.21 1868.07 1459.35 Q1868.07 1462.32 1866.38 1464.38 Q1864.71 1466.44 1861.73 1467.18 Q1865.11 1467.96 1866.98 1470.26 Q1868.88 1472.55 1868.88 1475.86 Q1868.88 1480.88 1865.8 1483.57 Q1862.75 1486.25 1857.03 1486.25 Q1851.31 1486.25 1848.23 1483.57 Q1845.18 1480.88 1845.18 1475.86 Q1845.18 1472.55 1847.07 1470.26 Q1848.97 1467.96 1852.35 1467.18 M1850.64 1459.79 Q1850.64 1462.48 1852.31 1463.98 Q1854 1465.49 1857.03 1465.49 Q1860.04 1465.49 1861.73 1463.98 Q1863.44 1462.48 1863.44 1459.79 Q1863.44 1457.11 1861.73 1455.6 Q1860.04 1454.1 1857.03 1454.1 Q1854 1454.1 1852.31 1455.6 Q1850.64 1457.11 1850.64 1459.79 Z\" fill=\"#000000\" fill-rule=\"evenodd\" fill-opacity=\"1\" /><path clip-path=\"url(#clip350)\" d=\"M2258.25 1481.64 L2265.89 1481.64 L2265.89 1455.28 L2257.58 1456.95 L2257.58 1452.69 L2265.84 1451.02 L2270.52 1451.02 L2270.52 1481.64 L2278.16 1481.64 L2278.16 1485.58 L2258.25 1485.58 L2258.25 1481.64 Z\" fill=\"#000000\" fill-rule=\"evenodd\" fill-opacity=\"1\" /><path clip-path=\"url(#clip350)\" d=\"M2287.6 1479.7 L2292.49 1479.7 L2292.49 1485.58 L2287.6 1485.58 L2287.6 1479.7 Z\" fill=\"#000000\" fill-rule=\"evenodd\" fill-opacity=\"1\" /><path clip-path=\"url(#clip350)\" d=\"M2312.67 1454.1 Q2309.06 1454.1 2307.23 1457.66 Q2305.43 1461.2 2305.43 1468.33 Q2305.43 1475.44 2307.23 1479.01 Q2309.06 1482.55 2312.67 1482.55 Q2316.31 1482.55 2318.11 1479.01 Q2319.94 1475.44 2319.94 1468.33 Q2319.94 1461.2 2318.11 1457.66 Q2316.31 1454.1 2312.67 1454.1 M2312.67 1450.39 Q2318.48 1450.39 2321.54 1455 Q2324.62 1459.58 2324.62 1468.33 Q2324.62 1477.06 2321.54 1481.67 Q2318.48 1486.25 2312.67 1486.25 Q2306.86 1486.25 2303.78 1481.67 Q2300.73 1477.06 2300.73 1468.33 Q2300.73 1459.58 2303.78 1455 Q2306.86 1450.39 2312.67 1450.39 Z\" fill=\"#000000\" fill-rule=\"evenodd\" fill-opacity=\"1\" /><path clip-path=\"url(#clip350)\" d=\"M1101.76 1525.81 L1101.76 1543.66 L1109.85 1543.66 Q1114.34 1543.66 1116.79 1541.34 Q1119.24 1539.02 1119.24 1534.72 Q1119.24 1530.45 1116.79 1528.13 Q1114.34 1525.81 1109.85 1525.81 L1101.76 1525.81 M1095.33 1520.52 L1109.85 1520.52 Q1117.84 1520.52 1121.91 1524.15 Q1126.02 1527.75 1126.02 1534.72 Q1126.02 1541.75 1121.91 1545.35 Q1117.84 1548.95 1109.85 1548.95 L1101.76 1548.95 L1101.76 1568.04 L1095.33 1568.04 L1095.33 1520.52 Z\" fill=\"#000000\" fill-rule=\"evenodd\" fill-opacity=\"1\" /><path clip-path=\"url(#clip350)\" d=\"M1153.9 1537.87 Q1152.91 1537.3 1151.73 1537.04 Q1150.59 1536.76 1149.19 1536.76 Q1144.22 1536.76 1141.55 1540 Q1138.91 1543.22 1138.91 1549.27 L1138.91 1568.04 L1133.02 1568.04 L1133.02 1532.4 L1138.91 1532.4 L1138.91 1537.93 Q1140.75 1534.69 1143.71 1533.13 Q1146.67 1531.54 1150.91 1531.54 Q1151.51 1531.54 1152.24 1531.63 Q1152.98 1531.7 1153.87 1531.85 L1153.9 1537.87 Z\" fill=\"#000000\" fill-rule=\"evenodd\" fill-opacity=\"1\" /><path clip-path=\"url(#clip350)\" d=\"M1172.42 1536.5 Q1167.71 1536.5 1164.97 1540.19 Q1162.24 1543.85 1162.24 1550.25 Q1162.24 1556.65 1164.94 1560.34 Q1167.68 1564 1172.42 1564 Q1177.1 1564 1179.84 1560.31 Q1182.58 1556.62 1182.58 1550.25 Q1182.58 1543.92 1179.84 1540.23 Q1177.1 1536.5 1172.42 1536.5 M1172.42 1531.54 Q1180.06 1531.54 1184.42 1536.5 Q1188.78 1541.47 1188.78 1550.25 Q1188.78 1559 1184.42 1564 Q1180.06 1568.97 1172.42 1568.97 Q1164.75 1568.97 1160.39 1564 Q1156.06 1559 1156.06 1550.25 Q1156.06 1541.47 1160.39 1536.5 Q1164.75 1531.54 1172.42 1531.54 Z\" fill=\"#000000\" fill-rule=\"evenodd\" fill-opacity=\"1\" /><path clip-path=\"url(#clip350)\" d=\"M1224.08 1550.25 Q1224.08 1543.79 1221.41 1540.13 Q1218.77 1536.44 1214.12 1536.44 Q1209.47 1536.44 1206.8 1540.13 Q1204.16 1543.79 1204.16 1550.25 Q1204.16 1556.71 1206.8 1560.4 Q1209.47 1564.07 1214.12 1564.07 Q1218.77 1564.07 1221.41 1560.4 Q1224.08 1556.71 1224.08 1550.25 M1204.16 1537.81 Q1206 1534.62 1208.8 1533.1 Q1211.64 1531.54 1215.55 1531.54 Q1222.04 1531.54 1226.09 1536.69 Q1230.16 1541.85 1230.16 1550.25 Q1230.16 1558.65 1226.09 1563.81 Q1222.04 1568.97 1215.55 1568.97 Q1211.64 1568.97 1208.8 1567.44 Q1206 1565.88 1204.16 1562.7 L1204.16 1568.04 L1198.27 1568.04 L1198.27 1518.52 L1204.16 1518.52 L1204.16 1537.81 Z\" fill=\"#000000\" fill-rule=\"evenodd\" fill-opacity=\"1\" /><path clip-path=\"url(#clip350)\" d=\"M1256.07 1550.12 Q1248.97 1550.12 1246.23 1551.75 Q1243.5 1553.37 1243.5 1557.29 Q1243.5 1560.4 1245.53 1562.25 Q1247.6 1564.07 1251.13 1564.07 Q1256 1564.07 1258.93 1560.63 Q1261.89 1557.16 1261.89 1551.43 L1261.89 1550.12 L1256.07 1550.12 M1267.75 1547.71 L1267.75 1568.04 L1261.89 1568.04 L1261.89 1562.63 Q1259.89 1565.88 1256.9 1567.44 Q1253.9 1568.97 1249.58 1568.97 Q1244.1 1568.97 1240.85 1565.91 Q1237.64 1562.82 1237.64 1557.67 Q1237.64 1551.65 1241.65 1548.6 Q1245.69 1545.54 1253.68 1545.54 L1261.89 1545.54 L1261.89 1544.97 Q1261.89 1540.93 1259.22 1538.73 Q1256.58 1536.5 1251.77 1536.5 Q1248.72 1536.5 1245.82 1537.23 Q1242.92 1537.97 1240.25 1539.43 L1240.25 1534.02 Q1243.46 1532.78 1246.49 1532.17 Q1249.51 1531.54 1252.38 1531.54 Q1260.11 1531.54 1263.93 1535.55 Q1267.75 1539.56 1267.75 1547.71 Z\" fill=\"#000000\" fill-rule=\"evenodd\" fill-opacity=\"1\" /><path clip-path=\"url(#clip350)\" d=\"M1305.4 1550.25 Q1305.4 1543.79 1302.73 1540.13 Q1300.09 1536.44 1295.44 1536.44 Q1290.79 1536.44 1288.12 1540.13 Q1285.48 1543.79 1285.48 1550.25 Q1285.48 1556.71 1288.12 1560.4 Q1290.79 1564.07 1295.44 1564.07 Q1300.09 1564.07 1302.73 1560.4 Q1305.4 1556.71 1305.4 1550.25 M1285.48 1537.81 Q1287.32 1534.62 1290.12 1533.1 Q1292.96 1531.54 1296.87 1531.54 Q1303.37 1531.54 1307.41 1536.69 Q1311.48 1541.85 1311.48 1550.25 Q1311.48 1558.65 1307.41 1563.81 Q1303.37 1568.97 1296.87 1568.97 Q1292.96 1568.97 1290.12 1567.44 Q1287.32 1565.88 1285.48 1562.7 L1285.48 1568.04 L1279.59 1568.04 L1279.59 1518.52 L1285.48 1518.52 L1285.48 1537.81 Z\" fill=\"#000000\" fill-rule=\"evenodd\" fill-opacity=\"1\" /><path clip-path=\"url(#clip350)\" d=\"M1321.19 1532.4 L1327.05 1532.4 L1327.05 1568.04 L1321.19 1568.04 L1321.19 1532.4 M1321.19 1518.52 L1327.05 1518.52 L1327.05 1525.93 L1321.19 1525.93 L1321.19 1518.52 Z\" fill=\"#000000\" fill-rule=\"evenodd\" fill-opacity=\"1\" /><path clip-path=\"url(#clip350)\" d=\"M1339.3 1518.52 L1345.16 1518.52 L1345.16 1568.04 L1339.3 1568.04 L1339.3 1518.52 Z\" fill=\"#000000\" fill-rule=\"evenodd\" fill-opacity=\"1\" /><path clip-path=\"url(#clip350)\" d=\"M1357.41 1532.4 L1363.27 1532.4 L1363.27 1568.04 L1357.41 1568.04 L1357.41 1532.4 M1357.41 1518.52 L1363.27 1518.52 L1363.27 1525.93 L1357.41 1525.93 L1357.41 1518.52 Z\" fill=\"#000000\" fill-rule=\"evenodd\" fill-opacity=\"1\" /><path clip-path=\"url(#clip350)\" d=\"M1381.31 1522.27 L1381.31 1532.4 L1393.38 1532.4 L1393.38 1536.95 L1381.31 1536.95 L1381.31 1556.3 Q1381.31 1560.66 1382.49 1561.9 Q1383.7 1563.14 1387.36 1563.14 L1393.38 1563.14 L1393.38 1568.04 L1387.36 1568.04 Q1380.58 1568.04 1378 1565.53 Q1375.43 1562.98 1375.43 1556.3 L1375.43 1536.95 L1371.13 1536.95 L1371.13 1532.4 L1375.43 1532.4 L1375.43 1522.27 L1381.31 1522.27 Z\" fill=\"#000000\" fill-rule=\"evenodd\" fill-opacity=\"1\" /><path clip-path=\"url(#clip350)\" d=\"M1415.91 1571.35 Q1413.43 1577.72 1411.07 1579.66 Q1408.72 1581.6 1404.77 1581.6 L1400.09 1581.6 L1400.09 1576.7 L1403.53 1576.7 Q1405.95 1576.7 1407.29 1575.56 Q1408.62 1574.41 1410.25 1570.14 L1411.3 1567.47 L1396.88 1532.4 L1403.08 1532.4 L1414.22 1560.28 L1425.36 1532.4 L1431.57 1532.4 L1415.91 1571.35 Z\" fill=\"#000000\" fill-rule=\"evenodd\" fill-opacity=\"1\" /><polyline clip-path=\"url(#clip352)\" style=\"stroke:#000000; stroke-linecap:butt; stroke-linejoin:round; stroke-width:2; stroke-opacity:0.1; fill:none\" points=\"\n  174.149,1384.24 2352.76,1384.24 \n  \"/>\n<polyline clip-path=\"url(#clip352)\" style=\"stroke:#000000; stroke-linecap:butt; stroke-linejoin:round; stroke-width:2; stroke-opacity:0.1; fill:none\" points=\"\n  174.149,993.485 2352.76,993.485 \n  \"/>\n<polyline clip-path=\"url(#clip352)\" style=\"stroke:#000000; stroke-linecap:butt; stroke-linejoin:round; stroke-width:2; stroke-opacity:0.1; fill:none\" points=\"\n  174.149,602.733 2352.76,602.733 \n  \"/>\n<polyline clip-path=\"url(#clip352)\" style=\"stroke:#000000; stroke-linecap:butt; stroke-linejoin:round; stroke-width:2; stroke-opacity:0.1; fill:none\" points=\"\n  174.149,211.98 2352.76,211.98 \n  \"/>\n<polyline clip-path=\"url(#clip350)\" style=\"stroke:#000000; stroke-linecap:butt; stroke-linejoin:round; stroke-width:4; stroke-opacity:1; fill:none\" points=\"\n  174.149,1423.18 174.149,47.2441 \n  \"/>\n<polyline clip-path=\"url(#clip350)\" style=\"stroke:#000000; stroke-linecap:butt; stroke-linejoin:round; stroke-width:4; stroke-opacity:1; fill:none\" points=\"\n  174.149,1384.24 193.047,1384.24 \n  \"/>\n<polyline clip-path=\"url(#clip350)\" style=\"stroke:#000000; stroke-linecap:butt; stroke-linejoin:round; stroke-width:4; stroke-opacity:1; fill:none\" points=\"\n  174.149,993.485 193.047,993.485 \n  \"/>\n<polyline clip-path=\"url(#clip350)\" style=\"stroke:#000000; stroke-linecap:butt; stroke-linejoin:round; stroke-width:4; stroke-opacity:1; fill:none\" points=\"\n  174.149,602.733 193.047,602.733 \n  \"/>\n<polyline clip-path=\"url(#clip350)\" style=\"stroke:#000000; stroke-linecap:butt; stroke-linejoin:round; stroke-width:4; stroke-opacity:1; fill:none\" points=\"\n  174.149,211.98 193.047,211.98 \n  \"/>\n<path clip-path=\"url(#clip350)\" d=\"M126.205 1370.04 Q122.593 1370.04 120.765 1373.6 Q118.959 1377.14 118.959 1384.27 Q118.959 1391.38 120.765 1394.94 Q122.593 1398.49 126.205 1398.49 Q129.839 1398.49 131.644 1394.94 Q133.473 1391.38 133.473 1384.27 Q133.473 1377.14 131.644 1373.6 Q129.839 1370.04 126.205 1370.04 M126.205 1366.33 Q132.015 1366.33 135.07 1370.94 Q138.149 1375.52 138.149 1384.27 Q138.149 1393 135.07 1397.61 Q132.015 1402.19 126.205 1402.19 Q120.394 1402.19 117.316 1397.61 Q114.26 1393 114.26 1384.27 Q114.26 1375.52 117.316 1370.94 Q120.394 1366.33 126.205 1366.33 Z\" fill=\"#000000\" fill-rule=\"evenodd\" fill-opacity=\"1\" /><path clip-path=\"url(#clip350)\" d=\"M118.242 1006.83 L125.88 1006.83 L125.88 980.465 L117.57 982.131 L117.57 977.872 L125.834 976.205 L130.51 976.205 L130.51 1006.83 L138.149 1006.83 L138.149 1010.77 L118.242 1010.77 L118.242 1006.83 Z\" fill=\"#000000\" fill-rule=\"evenodd\" fill-opacity=\"1\" /><path clip-path=\"url(#clip350)\" d=\"M121.83 616.078 L138.149 616.078 L138.149 620.013 L116.205 620.013 L116.205 616.078 Q118.867 613.323 123.45 608.693 Q128.056 604.041 129.237 602.698 Q131.482 600.175 132.362 598.439 Q133.265 596.68 133.265 594.99 Q133.265 592.235 131.32 590.499 Q129.399 588.763 126.297 588.763 Q124.098 588.763 121.644 589.527 Q119.214 590.291 116.436 591.842 L116.436 587.119 Q119.26 585.985 121.714 585.406 Q124.168 584.828 126.205 584.828 Q131.575 584.828 134.769 587.513 Q137.964 590.198 137.964 594.689 Q137.964 596.818 137.154 598.74 Q136.367 600.638 134.26 603.23 Q133.681 603.902 130.58 607.119 Q127.478 610.314 121.83 616.078 Z\" fill=\"#000000\" fill-rule=\"evenodd\" fill-opacity=\"1\" /><path clip-path=\"url(#clip350)\" d=\"M131.019 210.626 Q134.376 211.343 136.251 213.612 Q138.149 215.88 138.149 219.214 Q138.149 224.329 134.63 227.13 Q131.112 229.931 124.63 229.931 Q122.455 229.931 120.14 229.491 Q117.848 229.075 115.394 228.218 L115.394 223.704 Q117.339 224.839 119.654 225.417 Q121.968 225.996 124.492 225.996 Q128.89 225.996 131.181 224.26 Q133.496 222.524 133.496 219.214 Q133.496 216.158 131.343 214.445 Q129.214 212.709 125.394 212.709 L121.367 212.709 L121.367 208.867 L125.58 208.867 Q129.029 208.867 130.857 207.501 Q132.686 206.112 132.686 203.519 Q132.686 200.857 130.788 199.445 Q128.913 198.01 125.394 198.01 Q123.473 198.01 121.274 198.427 Q119.075 198.843 116.436 199.723 L116.436 195.556 Q119.098 194.816 121.413 194.445 Q123.751 194.075 125.811 194.075 Q131.135 194.075 134.237 196.506 Q137.339 198.913 137.339 203.033 Q137.339 205.904 135.695 207.894 Q134.052 209.862 131.019 210.626 Z\" fill=\"#000000\" fill-rule=\"evenodd\" fill-opacity=\"1\" /><path clip-path=\"url(#clip350)\" d=\"M16.4842 917.908 L16.4842 911.478 L64.0042 911.478 L64.0042 917.908 L16.4842 917.908 Z\" fill=\"#000000\" fill-rule=\"evenodd\" fill-opacity=\"1\" /><path clip-path=\"url(#clip350)\" d=\"M42.4881 869.306 L64.0042 869.306 L64.0042 875.162 L42.679 875.162 Q37.6183 875.162 35.1038 877.135 Q32.5894 879.109 32.5894 883.056 Q32.5894 887.798 35.6131 890.535 Q38.6368 893.272 43.8567 893.272 L64.0042 893.272 L64.0042 899.161 L28.3562 899.161 L28.3562 893.272 L33.8944 893.272 Q30.6797 891.172 29.0883 888.339 Q27.4968 885.474 27.4968 881.751 Q27.4968 875.608 31.3163 872.457 Q35.1038 869.306 42.4881 869.306 Z\" fill=\"#000000\" fill-rule=\"evenodd\" fill-opacity=\"1\" /><path clip-path=\"url(#clip350)\" d=\"M14.479 839.578 L19.3487 839.578 L19.3487 845.18 Q19.3487 848.331 20.6219 849.572 Q21.895 850.781 25.2052 850.781 L28.3562 850.781 L28.3562 841.137 L32.9077 841.137 L32.9077 850.781 L64.0042 850.781 L64.0042 856.67 L32.9077 856.67 L32.9077 862.271 L28.3562 862.271 L28.3562 856.67 L25.8736 856.67 Q19.9216 856.67 17.2162 853.901 Q14.479 851.131 14.479 845.116 L14.479 839.578 Z\" fill=\"#000000\" fill-rule=\"evenodd\" fill-opacity=\"1\" /><path clip-path=\"url(#clip350)\" d=\"M32.4621 820.863 Q32.4621 825.573 36.1542 828.31 Q39.8145 831.048 46.212 831.048 Q52.6095 831.048 56.3017 828.342 Q59.9619 825.605 59.9619 820.863 Q59.9619 816.184 56.2698 813.447 Q52.5777 810.709 46.212 810.709 Q39.8781 810.709 36.186 813.447 Q32.4621 816.184 32.4621 820.863 M27.4968 820.863 Q27.4968 813.224 32.4621 808.863 Q37.4273 804.503 46.212 804.503 Q54.9649 804.503 59.9619 808.863 Q64.9272 813.224 64.9272 820.863 Q64.9272 828.533 59.9619 832.894 Q54.9649 837.222 46.212 837.222 Q37.4273 837.222 32.4621 832.894 Q27.4968 828.533 27.4968 820.863 Z\" fill=\"#000000\" fill-rule=\"evenodd\" fill-opacity=\"1\" /><path clip-path=\"url(#clip350)\" d=\"M33.8307 774.138 Q33.2578 775.125 33.0032 776.303 Q32.7167 777.448 32.7167 778.849 Q32.7167 783.814 35.9632 786.488 Q39.1779 789.13 45.2253 789.13 L64.0042 789.13 L64.0042 795.018 L28.3562 795.018 L28.3562 789.13 L33.8944 789.13 Q30.6479 787.283 29.0883 784.323 Q27.4968 781.363 27.4968 777.13 Q27.4968 776.525 27.5923 775.793 Q27.656 775.061 27.8151 774.17 L33.8307 774.138 Z\" fill=\"#000000\" fill-rule=\"evenodd\" fill-opacity=\"1\" /><path clip-path=\"url(#clip350)\" d=\"M35.1993 741.387 Q31.2526 739.191 29.3747 736.135 Q27.4968 733.079 27.4968 728.942 Q27.4968 723.372 31.4117 720.348 Q35.2948 717.324 42.4881 717.324 L64.0042 717.324 L64.0042 723.213 L42.679 723.213 Q37.5546 723.213 35.072 725.027 Q32.5894 726.841 32.5894 730.565 Q32.5894 735.116 35.6131 737.758 Q38.6368 740.4 43.8567 740.4 L64.0042 740.4 L64.0042 746.288 L42.679 746.288 Q37.5228 746.288 35.072 748.103 Q32.5894 749.917 32.5894 753.704 Q32.5894 758.192 35.6449 760.834 Q38.6686 763.476 43.8567 763.476 L64.0042 763.476 L64.0042 769.364 L28.3562 769.364 L28.3562 763.476 L33.8944 763.476 Q30.616 761.471 29.0564 758.67 Q27.4968 755.869 27.4968 752.017 Q27.4968 748.134 29.4702 745.429 Q31.4436 742.692 35.1993 741.387 Z\" fill=\"#000000\" fill-rule=\"evenodd\" fill-opacity=\"1\" /><path clip-path=\"url(#clip350)\" d=\"M46.0847 689.443 Q46.0847 696.54 47.7079 699.278 Q49.3312 702.015 53.2461 702.015 Q56.3653 702.015 58.2114 699.978 Q60.0256 697.909 60.0256 694.376 Q60.0256 689.506 56.5881 686.578 Q53.1188 683.618 47.3897 683.618 L46.0847 683.618 L46.0847 689.443 M43.6657 677.761 L64.0042 677.761 L64.0042 683.618 L58.5933 683.618 Q61.8398 685.623 63.3994 688.615 Q64.9272 691.607 64.9272 695.936 Q64.9272 701.41 61.8716 704.657 Q58.7843 707.871 53.6281 707.871 Q47.6125 707.871 44.5569 703.861 Q41.5014 699.819 41.5014 691.83 L41.5014 683.618 L40.9285 683.618 Q36.8862 683.618 34.6901 686.292 Q32.4621 688.933 32.4621 693.739 Q32.4621 696.795 33.1941 699.691 Q33.9262 702.588 35.3903 705.261 L29.9795 705.261 Q28.7381 702.047 28.1334 699.023 Q27.4968 695.999 27.4968 693.135 Q27.4968 685.4 31.5072 681.581 Q35.5176 677.761 43.6657 677.761 Z\" fill=\"#000000\" fill-rule=\"evenodd\" fill-opacity=\"1\" /><path clip-path=\"url(#clip350)\" d=\"M18.2347 659.906 L28.3562 659.906 L28.3562 647.843 L32.9077 647.843 L32.9077 659.906 L52.2594 659.906 Q56.6199 659.906 57.8613 658.728 Q59.1026 657.519 59.1026 653.858 L59.1026 647.843 L64.0042 647.843 L64.0042 653.858 Q64.0042 660.638 61.4897 663.216 Q58.9434 665.794 52.2594 665.794 L32.9077 665.794 L32.9077 670.091 L28.3562 670.091 L28.3562 665.794 L18.2347 665.794 L18.2347 659.906 Z\" fill=\"#000000\" fill-rule=\"evenodd\" fill-opacity=\"1\" /><path clip-path=\"url(#clip350)\" d=\"M28.3562 640.14 L28.3562 634.284 L64.0042 634.284 L64.0042 640.14 L28.3562 640.14 M14.479 640.14 L14.479 634.284 L21.895 634.284 L21.895 640.14 L14.479 640.14 Z\" fill=\"#000000\" fill-rule=\"evenodd\" fill-opacity=\"1\" /><path clip-path=\"url(#clip350)\" d=\"M32.4621 608.216 Q32.4621 612.927 36.1542 615.664 Q39.8145 618.401 46.212 618.401 Q52.6095 618.401 56.3017 615.696 Q59.9619 612.959 59.9619 608.216 Q59.9619 603.537 56.2698 600.8 Q52.5777 598.063 46.212 598.063 Q39.8781 598.063 36.186 600.8 Q32.4621 603.537 32.4621 608.216 M27.4968 608.216 Q27.4968 600.577 32.4621 596.217 Q37.4273 591.856 46.212 591.856 Q54.9649 591.856 59.9619 596.217 Q64.9272 600.577 64.9272 608.216 Q64.9272 615.887 59.9619 620.247 Q54.9649 624.576 46.212 624.576 Q37.4273 624.576 32.4621 620.247 Q27.4968 615.887 27.4968 608.216 Z\" fill=\"#000000\" fill-rule=\"evenodd\" fill-opacity=\"1\" /><path clip-path=\"url(#clip350)\" d=\"M42.4881 552.516 L64.0042 552.516 L64.0042 558.373 L42.679 558.373 Q37.6183 558.373 35.1038 560.346 Q32.5894 562.319 32.5894 566.266 Q32.5894 571.009 35.6131 573.746 Q38.6368 576.483 43.8567 576.483 L64.0042 576.483 L64.0042 582.371 L28.3562 582.371 L28.3562 576.483 L33.8944 576.483 Q30.6797 574.382 29.0883 571.55 Q27.4968 568.685 27.4968 564.961 Q27.4968 558.818 31.3163 555.667 Q35.1038 552.516 42.4881 552.516 Z\" fill=\"#000000\" fill-rule=\"evenodd\" fill-opacity=\"1\" /><polyline clip-path=\"url(#clip352)\" style=\"stroke:#009af9; stroke-linecap:butt; stroke-linejoin:round; stroke-width:4; stroke-opacity:1; fill:none\" points=\"\n  235.808,86.1857 349.99,314.761 464.173,476.938 578.356,602.733 692.539,705.514 806.721,792.415 920.904,867.691 1035.09,934.09 1149.27,993.485 1263.45,1047.22 \n  1377.64,1096.27 1491.82,1141.39 1606,1183.17 1720.18,1222.06 1834.37,1258.44 1948.55,1292.62 2062.73,1324.84 2176.91,1355.32 2291.1,1384.24 \n  \"/>\n<path clip-path=\"url(#clip350)\" d=\"\nM1987.71 196.789 L2280.14 196.789 L2280.14 93.1086 L1987.71 93.1086  Z\n  \" fill=\"#ffffff\" fill-rule=\"evenodd\" fill-opacity=\"1\"/>\n<polyline clip-path=\"url(#clip350)\" style=\"stroke:#000000; stroke-linecap:butt; stroke-linejoin:round; stroke-width:4; stroke-opacity:1; fill:none\" points=\"\n  1987.71,196.789 2280.14,196.789 2280.14,93.1086 1987.71,93.1086 1987.71,196.789 \n  \"/>\n<polyline clip-path=\"url(#clip350)\" style=\"stroke:#009af9; stroke-linecap:butt; stroke-linejoin:round; stroke-width:4; stroke-opacity:1; fill:none\" points=\"\n  2011.71,144.949 2155.71,144.949 \n  \"/>\n<path clip-path=\"url(#clip350)\" d=\"M2193.55 164.636 Q2191.74 169.266 2190.03 170.678 Q2188.32 172.09 2185.45 172.09 L2182.04 172.09 L2182.04 168.525 L2184.54 168.525 Q2186.3 168.525 2187.27 167.692 Q2188.25 166.858 2189.43 163.756 L2190.19 161.812 L2179.71 136.303 L2184.22 136.303 L2192.32 156.581 L2200.42 136.303 L2204.94 136.303 L2193.55 164.636 Z\" fill=\"#000000\" fill-rule=\"evenodd\" fill-opacity=\"1\" /><path clip-path=\"url(#clip350)\" d=\"M2212.23 158.293 L2219.87 158.293 L2219.87 131.928 L2211.56 133.595 L2211.56 129.335 L2219.82 127.669 L2224.5 127.669 L2224.5 158.293 L2232.14 158.293 L2232.14 162.229 L2212.23 162.229 L2212.23 158.293 Z\" fill=\"#000000\" fill-rule=\"evenodd\" fill-opacity=\"1\" /></svg>\n"
     },
     "execution_count": 5,
     "metadata": {
     },
     "output_type": "execute_result"
    }
   ],
   "source": [
    "using Plots\n",
    "x = [0.1,0.15,0.2,0.25,0.3,0.35,0.4,0.45,0.5,0.55,0.6,0.65,0.7,0.75,0.8,0.85,0.9,0.95,1]\n",
    "y=[]\n",
    "for i in x\n",
    "    append!(y,-log2(i))\n",
    "end\n",
    "plot(x,y,xaxis = (\"Probability\"),yaxis = (\"Information\"))"
   ]
  },
  {
   "cell_type": "markdown",
   "metadata": {
    "collapsed": false
   },
   "source": [
    "We explored the information relation between probability and information, but lets say we wanted to make a best guess for a random event that has some probability distribution. All the examples we explored we knew the exact probability, but lets consider some *continuous random variables*, where instead we have a likely probability, like this picture below: "
   ]
  },
  {
   "cell_type": "markdown",
   "metadata": {
    "collapsed": false
   },
   "source": [
    " <img src=\"csv.png\" alt=\"drawing\" width=\"500\"/>"
   ]
  },
  {
   "cell_type": "markdown",
   "metadata": {
    "collapsed": false
   },
   "source": [
    "Understanding the logic behind these graphs is beyond this class, but essentially to find a probablity, we need to sum a region of probabilities rather than simply pick an choose one. So if we follow the picture above, the probability between 1 and 2, is the sum of each slice under the graph from 1 to 2. If we let $H(X)$ be the expected value of information and N be the the length of the slice, we can represent the expected value of information as the following function: $$H(X)=E=-\\sum_i^Np(x)\\times\\log_2(p(x))$$"
   ]
  },
  {
   "cell_type": "markdown",
   "metadata": {
    "collapsed": false
   },
   "source": [
    "Now we have a heuristic for the value of a variable. Essentially now we know the importance of each letter to us. However, now we need to find the probability of each letter."
   ]
  },
  {
   "cell_type": "markdown",
   "metadata": {
    "collapsed": false
   },
   "source": [
    "## Probabilities of each letter"
   ]
  },
  {
   "cell_type": "markdown",
   "metadata": {
    "collapsed": false
   },
   "source": [
    "What I propose we do is too use each letter's usage in the total of 5 letter words. For every letter we can create a probability array containing its likely hood to be in each of the 5 letter spots. Then we can simply add the probabilities of each letter in our guess's likelihood to get the total probability of the word, and get the expected information for each word. Afterwards we can find the highest entropy word and use that to find the best guess. For example,according to the chart below \"e\" is in many words. If we guess \"e\" we effectively limit the pool of words\n",
    "\n",
    "Here is the list of all possible guesses for 5-letter words, that I used to generate a probability array: https://github.com/3b1b/videos/blob/master/_2022/wordle/daa/possible_words.txt."
   ]
  },
  {
   "cell_type": "code",
   "execution_count": 6,
   "metadata": {
    "collapsed": false
   },
   "outputs": [
    {
     "data": {
      "text/plain": [
       "prob (generic function with 1 method)"
      ]
     },
     "execution_count": 6,
     "metadata": {
     },
     "output_type": "execute_result"
    }
   ],
   "source": [
    "f =open(\"words.txt\")\n",
    "lines = readlines(f)\n",
    "close(f)\n",
    "function prob(letter)\n",
    "    e = [0,0,0,0,0]\n",
    "        for i in lines\n",
    "            if (cmp(letter,string(i[1]))==0)\n",
    "                e[1]=e[1]+1\n",
    "            end\n",
    "            if (cmp(letter,string(i[2]))==0)\n",
    "                e[2]=e[2]+1\n",
    "            end\n",
    "            if (cmp(letter,string(i[3]))==0)\n",
    "                e[3]=e[3]+1\n",
    "            end\n",
    "            if (cmp(letter,string(i[4]))==0)\n",
    "                e[4]=e[4]+1\n",
    "            end\n",
    "            if (cmp(letter,string(i[5]))==0)\n",
    "                e[5]=e[5]+1\n",
    "            end\n",
    "    end\n",
    "    return e\n",
    "end"
   ]
  },
  {
   "cell_type": "code",
   "execution_count": 116,
   "metadata": {
    "collapsed": false
   },
   "outputs": [
    {
     "data": {
      "text/plain": [
       "5-element Vector{Int64}:\n",
       " 1565\n",
       "   93\n",
       "  533\n",
       "  516\n",
       " 3958"
      ]
     },
     "execution_count": 116,
     "metadata": {
     },
     "output_type": "execute_result"
    }
   ],
   "source": [
    "prob(\"s\")"
   ]
  },
  {
   "cell_type": "markdown",
   "metadata": {
    "collapsed": false
   },
   "source": [
    "So if you take a look at the code cell below you will see that I divide the occurences of e by ~13000. This is pool of accepted gueses by wordle. If you want to take a look it is called words.txt in the project directory. However, it is very forgiving in what qualifies as a word. As 3blue1brown put it \"the words that would cause fights in Scrabble\". "
   ]
  },
  {
   "cell_type": "code",
   "execution_count": 125,
   "metadata": {
    "collapsed": false
   },
   "outputs": [
    {
     "data": {
      "text/plain": [
       "5-element Vector{Float64}:\n",
       " 0.02335800185013876\n",
       " 0.12550107924761023\n",
       " 0.06799259944495838\n",
       " 0.179386370644465\n",
       " 0.11732963305581252"
      ]
     },
     "execution_count": 125,
     "metadata": {
     },
     "output_type": "execute_result"
    }
   ],
   "source": [
    "arr =prob(\"e\")./12972\n",
    "arr"
   ]
  },
  {
   "cell_type": "markdown",
   "metadata": {
    "collapsed": false
   },
   "source": [
    "In the above example, I made an array containing the probabilities of 'e' being in each space, but in essence we would do this for every letter in every position. We wouldn't have to do this for every Wordle calculation, instead keeping a list of probabilities that we can later reference. Here is a full chart showing the distribution of each letter and its position."
   ]
  },
  {
   "cell_type": "markdown",
   "metadata": {
    "collapsed": false
   },
   "source": [
    " <img src=\"dist.jpg\" alt=\"drawing\" width=\"700\"/> "
   ]
  },
  {
   "cell_type": "markdown",
   "metadata": {
    "collapsed": false
   },
   "source": [
    "Now we have the probability of each letter in each position. The next step is to combine this information together to create a graph that contains the probability of all the combinations of whether a letter is there in the mystery word. Recall each letter can be not present, present, and present and in the right position. Below is the example of the probability distribution of a word like \"Weary\". We see there is a high likelihood that you will get all greys, and that will happen about 14% of the time. As you go down the graph, you the probability of more an more letters matching decreasing rapidly. As you can imagine given the rare nature of \"W\" and \"Y\" in the english langauge this is a very low proability, and knowing we aren'T using these letters isn't very informative.\n"
   ]
  },
  {
   "cell_type": "markdown",
   "metadata": {
    "collapsed": false
   },
   "source": [
    "<img src=\"Edist.JPG\" alt=\"drawing\" width=\"500\"/>"
   ]
  },
  {
   "cell_type": "markdown",
   "metadata": {
    "collapsed": false
   },
   "source": [
    "How about instead of using something like \"WEARY\", we use an optimal word. If we look at our distribution above, we see that it would have an \"E\",\"A\",\"S\",\"T\" & \"L\". Know any words? \"SLATE\" is a pretty good anagram of these letters, and below we can see its probability distribution. "
   ]
  },
  {
   "cell_type": "markdown",
   "metadata": {
    "collapsed": false
   },
   "source": [
    "<img src=\"edist2.JPG\" alt=\"drawing\" width=\"500\"/>"
   ]
  },
  {
   "cell_type": "markdown",
   "metadata": {
    "collapsed": false
   },
   "source": [
    "If you look at the shape of the graph above, you see its a lot flatter. This isn't a coincidence, because if you consider an event with equal probability, say the dice from before, then we would get 6 columns all of 0.1666 height. As such we want a word, where regardless of the guess it will always limit our pool by a good amount. As you can see above the word slate's most likely scenario where all the letters are grey, narrows down the pool greatly. This scenario happens only 6% of the time, and this gives us an information value of 3.91. "
   ]
  },
  {
   "cell_type": "markdown",
   "metadata": {
    "collapsed": false
   },
   "source": [
    "Using our entropy equation from above we can generate an average expected information value for each word. With this we can generate a best first guess. Then with the information we get from our first guess, we can figure out the probability of each secondary guess using a new probability since the total possibilities of words has shrunk."
   ]
  },
  {
   "cell_type": "markdown",
   "metadata": {
    "collapsed": false
   },
   "source": [
    "Lets create a function that give us the information and probability of the word, so we can plug it into our entropy equation."
   ]
  },
  {
   "cell_type": "code",
   "execution_count": 10,
   "metadata": {
    "collapsed": false
   },
   "outputs": [
    {
     "data": {
      "text/plain": [
       "probability (generic function with 1 method)"
      ]
     },
     "execution_count": 10,
     "metadata": {
     },
     "output_type": "execute_result"
    }
   ],
   "source": [
    "# answer will contain a 0,1,2 depending on whether the letter is grey, yellow or green. But for now assume that answer is all 0s.\n",
    "f =open(\"words.txt\")\n",
    "lines = readlines(f)\n",
    "close(f)\n",
    "\n",
    "function probability(word,answer)\n",
    "    letters = split(word,\"\")\n",
    "    totalwords = 12972\n",
    "    ourwords=0\n",
    "    \n",
    "#   all grey\n",
    "    if answer[1]==0 && answer[2]==0 && answer[3] ==0 && answer[4] ==0 && answer[5] ==0\n",
    "        for i in lines\n",
    "            if occursin(letters[1],i) || occursin(letters[2],i) || occursin(letters[3],i) || occursin(letters[4],i) || occursin(letters[5],i)\n",
    "                ourwords+=1\n",
    "            end\n",
    "        end\n",
    "        ourwords = totalwords-ourwords\n",
    "    end\n",
    "    p = ourwords/totalwords\n",
    "    information = -log2(p)\n",
    "    println(information)\n",
    "    return p\n",
    "end"
   ]
  },
  {
   "cell_type": "code",
   "execution_count": 11,
   "metadata": {
    "collapsed": false
   },
   "outputs": [
    {
     "name": "stdout",
     "output_type": "stream",
     "text": [
      "3.9065569859317195\n",
      "0.06668208448967006"
     ]
    }
   ],
   "source": [
    "word = \"slate\"\n",
    "answer = [0,0,0,0,0]\n",
    "print(probability(word,answer))\n",
    "# I =3.91\n",
    "# p = 0.0667"
   ]
  },
  {
   "cell_type": "markdown",
   "metadata": {
    "collapsed": false
   },
   "source": [
    "Above I have coded the probability calculator for if the word has all greys. In the above example we see my favorite word \"slate\" has about a 6.6 percent of being grey, meaning that 94% of the time I will always get a hint about the mystery word."
   ]
  },
  {
   "cell_type": "markdown",
   "metadata": {
    "collapsed": false
   },
   "source": [
    "The function I wrote at the top is only coded for the the most likely scenario, and to find the optimal word, we need to consider all scenarios of green grey and yellow letters. However, you can already see how some letters are far better than others"
   ]
  },
  {
   "cell_type": "code",
   "execution_count": 137,
   "metadata": {
    "collapsed": false
   },
   "outputs": [
    {
     "name": "stdout",
     "output_type": "stream",
     "text": [
      "slate's all grey's probability is: 0.06668208448967006\n",
      "crane's all grey's probability is: 0.12164662349676225\n",
      "adieu's all grey's probability is: 0.078245451742214\n",
      "fuzzy's all grey's probability is: 0.6070767807585569\n"
     ]
    }
   ],
   "source": [
    "# This is considered one of the best words\n",
    "word = \"slate\"\n",
    "answer = [0,0,0,0,0]\n",
    "println(\"slate's all grey's probability is: \",probability(word,answer))\n",
    "\n",
    "# This is also pretty common word, before algorithms broke Wordle\n",
    "word = \"crane\"\n",
    "answer = [0,0,0,0,0]\n",
    "println(\"crane's all grey's probability is: \",probability(word,answer))\n",
    "\n",
    "# This is an overated guess\n",
    "word = \"adieu\"\n",
    "answer = [0,0,0,0,0]\n",
    "println(\"adieu's all grey's probability is: \",probability(word,answer))\n",
    "\n",
    "# This is general considered one of the worst starting words ever\n",
    "word = \"fuzzy\"\n",
    "answer = [0,0,0,0,0]\n",
    "println(\"fuzzy's all grey's probability is: \",probability(word,answer))"
   ]
  },
  {
   "cell_type": "markdown",
   "metadata": {
    "collapsed": false
   },
   "source": [
    "Feel free to try out some more words, they could even be made up words, they just have to five letters, just follow the format I used above. For this iteration of the answer array keep it all 0s, since we run the operations on the 243 differnt versions of the colors in the Python lecture. This entire lecture was mostly the theory behind how we can solve Wordle with simple agorithms instead of something like Machine learning or NLP. As a result we will take a look at the code, and how to make a Wordle solver and simulator."
   ]
  }
 ],
 "metadata": {
  "kernelspec": {
   "display_name": "Julia 1.7",
   "env": {
    "JULIA_DEPOT_PATH": "/home/user/.julia/:/ext/julia/depot/",
    "JULIA_PROJECT": "/home/user/.julia/environment/v1.7"
   },
   "language": "julia",
   "metadata": {
    "cocalc": {
     "description": "The Julia Programming Language",
     "priority": 10,
     "url": "https://julialang.org/"
    }
   },
   "name": "julia-1.7",
   "resource_dir": "/ext/jupyter/kernels/julia-1.7"
  },
  "language_info": {
   "file_extension": ".jl",
   "mimetype": "application/julia",
   "name": "julia",
   "version": "1.7.2"
  }
 },
 "nbformat": 4,
 "nbformat_minor": 4
}